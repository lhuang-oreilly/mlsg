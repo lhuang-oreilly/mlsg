{
 "cells": [
  {
   "cell_type": "markdown",
   "metadata": {},
   "source": [
    "# Neural networks from scratch"
   ]
  },
  {
   "cell_type": "markdown",
   "metadata": {},
   "source": [
    "In our last sessions, we talked about what it means for a supervised algorithm to *learn*. We saw that, in a supervised learning algorithm, we have an **input** with a corresponding **output** label. The goal is to learn the weights for given features that will give us the correct output - this is what it means to train a model.\n",
    "\n",
    "In this exercise, we will apply what we learned to predict the rating of a review from reviews. "
   ]
  },
  {
   "cell_type": "markdown",
   "metadata": {},
   "source": [
    "In the `train.csv` file, there are a small number of reviews; for each review, there is the text of the review, the number of people who have read the review, and the numerical score of the review:\n",
    "\n",
    "```\n",
    "\"This video is incredible!!!\",1,5.0\n",
    "\"Sad and sorry excuse for words on a screen\",8,1.5\n",
    "\"The instructor was amazing, incredible in every way!\",2,5.0\n",
    "\"I feel sorry for anyone who waste their time on this book.\",9,1.0\n",
    "\"This is so-so, not bad but not good either.\",6,3.0\n",
    "...\n",
    "```"
   ]
  },
  {
   "cell_type": "markdown",
   "metadata": {},
   "source": [
    "## Part I: Preprocessing"
   ]
  },
  {
   "cell_type": "markdown",
   "metadata": {},
   "source": [
    "The first step in every NLP pipeline is cleaning and tokenization. The first step is to extract the vocabulary and count statistics. \n",
    "\n",
    "In real life, you will have to decide what constitutes a **token**. Here, let's do a simple definition. A token is:\n",
    "* one single valid English word\n",
    "* lowercased\n",
    "* plurals are stemmed to their singular form\n",
    "* excludes stop words\n"
   ]
  },
  {
   "cell_type": "code",
   "execution_count": 3,
   "metadata": {},
   "outputs": [
    {
     "data": {
      "text/plain": [
       "{'apple': 1,\n",
       " 'bar': 2,\n",
       " 'baz': 1,\n",
       " 'foo': 1,\n",
       " 'hello': 3,\n",
       " 'how': 1,\n",
       " 'i': 2,\n",
       " 'incredible': 1,\n",
       " 'josh': 1,\n",
       " 'like': 1,\n",
       " 'love': 1,\n",
       " 'was': 1,\n",
       " 'world': 1}"
      ]
     },
     "execution_count": 3,
     "metadata": {},
     "output_type": "execute_result"
    }
   ],
   "source": [
    "from collections import Counter\n",
    "\n",
    "# Let's try a max vocab size of 12 for now, and see how this works\n",
    "MAX_VOCAB_SIZE = 12\n",
    "STOP_WORDS = ['a', 'an', 'and', 'are', 'as', 'at',\n",
    "              'be', 'but', 'by', 'for', 'if', 'in',\n",
    "              'into', 'is', 'it', 'no', 'not', 'of',\n",
    "              'on', 'or', 'such', 'that', 'the', 'their',\n",
    "              'then', 'there', 'these', 'they', 'this',\n",
    "              'to', 'was', 'will', 'with']\n",
    "PUNCTUATIONS = ['.', ',', '?', '!', '\\n']\n",
    "\n",
    "\n",
    "def get_vocabulary(reviews):\n",
    "    ''' \n",
    "        Given a list of reviews, returns a vocabulary dictionary of tokens. \n",
    "        For example, given [\"foo bar\", \"bar baz hello\", \"hello world\"], \n",
    "        return {\"foo\": 1, \"bar\": 2, \"baz\": 1, \"hello\": 2}\n",
    "    '''\n",
    "    vocabulary = {}\n",
    "    counter = Counter()\n",
    "    for review in reviews:\n",
    "        if len(counter) == MAX_VOCAB_SIZE:\n",
    "            break\n",
    "        for word in tokenize_sentence(review):\n",
    "            counter[word] += 1\n",
    "    return dict(counter)\n",
    "\n",
    "def tokenize(word):\n",
    "    word = word.lower()\n",
    "    if word[-1] == 's':\n",
    "        word = word[:len(word)-1]\n",
    "    for punctuation in PUNCTUATIONS:\n",
    "        word = word.replace(punctuation, '')\n",
    "    return word\n",
    "\n",
    "def tokenize_sentence(sentence):\n",
    "    words = []\n",
    "    for word in sentence.split(\" \"):\n",
    "        if word not in STOP_WORDS:\n",
    "            words.append(tokenize(word))\n",
    "    return words\n",
    "\n",
    "            \n",
    "get_vocabulary([\"foo bar\", \"bar baz hello\", \"hello world\", \"HellO Josh\", \"I like apples\", \"I love how incredible this was.\"])\n",
    "    "
   ]
  },
  {
   "cell_type": "markdown",
   "metadata": {},
   "source": [
    "Stemming and excluding stop words is tedious work. **Question**: What libraries might you use that can help you with this? Do some googling and write down below at least two libraries and function calls you can make."
   ]
  },
  {
   "cell_type": "markdown",
   "metadata": {},
   "source": [
    "**TODO: what are two libraries and their functions I could call to make this easier...**\n",
    "1. from nltk.tokenize.word_tokenize\n",
    "2. from spacy.en import English; parser = English(); parser(text)"
   ]
  },
  {
   "cell_type": "markdown",
   "metadata": {},
   "source": [
    "Now, we will convert each sample into a *feature vector*. In real life, you will decide what features to use, and in the future, we will use deep learning to help us decide features. But for now, we will use these features:\n",
    "* Counts of each token\n",
    "* The number of people who have read the review"
   ]
  },
  {
   "cell_type": "code",
   "execution_count": 43,
   "metadata": {},
   "outputs": [],
   "source": [
    "import numpy as np\n",
    "\n",
    "def vectorize(data, vocab):\n",
    "    '''\n",
    "        Given a sample and the vocabulary dictionary, convert the sample to a feature vector. \n",
    "        For example, given \"I love how incredible this was.\",2,4.5 \n",
    "        it should return a vector of counts of each vocab word and the # of people who have read the review\n",
    "    '''\n",
    "    sentence, num_of_reviewers, rating = data\n",
    "    occurances = []\n",
    "    for word in tokenize_sentence(sentence):\n",
    "        occurances.append(vocab.get(word))\n",
    "    return [occurances, num_of_reviewers]\n",
    "        "
   ]
  },
  {
   "cell_type": "markdown",
   "metadata": {},
   "source": [
    "Again, vectorizing by hand can be tough work. **Question**: How might we be able to use sklearn to help us out here? Do some googling and name the class we could use."
   ]
  },
  {
   "cell_type": "markdown",
   "metadata": {},
   "source": [
    "**TODO: what is the general class in sklearn that helps us with converting data to feature vectors?**\n",
    "1. `sklearn.feature_extraction.text.CountVectorizer`\n",
    "2. `sklearn.feature_extraction.text.TfidfVectorizer`"
   ]
  },
  {
   "cell_type": "markdown",
   "metadata": {},
   "source": [
    "Now, call your two functions to get the vocabulary and vectorize the data into feature vectors. You should end up with $X$, the array of feature vectors for each sample, and $y$, the array of truth labels (in this case, the review score) for each sample."
   ]
  },
  {
   "cell_type": "code",
   "execution_count": 64,
   "metadata": {},
   "outputs": [
    {
     "name": "stdout",
     "output_type": "stream",
     "text": [
      "[[list([2, 2, 2]) '1']\n",
      " [list([1, 2, 2, 1, 2]) '8']\n",
      " [list([1, 1, 2, 2, 1, 2]) '2']\n",
      " [list([3, 1, 2, 2, 1, 3, 2, 3]) '9']\n",
      " [list([2, 1, 1, 1, 1]) '6']\n",
      " [list([2, 1, 1, 2, 2, 2, 2, 1, 1]) '3']\n",
      " [list([3, 1, 2, 1, 1, 1, 1, 1, 1, 2]) '7']\n",
      " [list([4, 3, 2, 1]) '2']\n",
      " [list([1, 2, 2, 1, 1]) '1']\n",
      " [list([3, 2, 3, 1]) '6']\n",
      " [list([2, 2, 1, 2]) '6']\n",
      " [list([1, 2, 2, 1]) '8']\n",
      " [list([3, 1, 1, 1, 1, 1, 1]) '7']\n",
      " [list([2, 2, 2]) '3']\n",
      " [list([4, 4, 4, 3]) '1']]\n"
     ]
    }
   ],
   "source": [
    "import csv\n",
    "import re\n",
    "\n",
    "\n",
    "# call the get_vocabulary() and vectorize() functions\n",
    "def parse_csv():\n",
    "    rows = []\n",
    "    with open('./train.csv', 'r') as train_f:\n",
    "        reader = csv.reader(train_f)\n",
    "        for row in reader:\n",
    "            rows.append(row)\n",
    "    return rows\n",
    "\n",
    "# process your file here, call your functions, etc.\n",
    "data = parse_csv()\n",
    "sentences = [d[0] for d in data]\n",
    "num_reviews = [d[1] for d in data]\n",
    "reviews = [d[2] for d in data]\n",
    "vocab = get_vocabulary(sentences)\n",
    "\n",
    "X = np.asarray([vectorize(d, vocab) for d in data])\n",
    "y = np.asarray([float(d[-1]) for d in data])\n",
    "\n",
    "# make sure they're numpy array objects.\n",
    "assert isinstance(X, np.ndarray) == True\n",
    "assert isinstance(y, np.ndarray) == True"
   ]
  },
  {
   "cell_type": "markdown",
   "metadata": {},
   "source": [
    "Q: How many features do we have? In other words, what is the dimensionality of our training set?\n",
    "\n",
    "**TODO: Type in your answer**\n",
    "2, The occurance of each word as a vector, and the number of people who have given a review."
   ]
  },
  {
   "cell_type": "markdown",
   "metadata": {},
   "source": [
    "## Part II: Training"
   ]
  },
  {
   "cell_type": "markdown",
   "metadata": {},
   "source": [
    "TODO"
   ]
  },
  {
   "cell_type": "markdown",
   "metadata": {},
   "source": [
    "## Part III: Evaluation"
   ]
  },
  {
   "cell_type": "markdown",
   "metadata": {},
   "source": [
    "TODO"
   ]
  }
 ],
 "metadata": {
  "kernelspec": {
   "display_name": "Python 3",
   "language": "python",
   "name": "python3"
  },
  "language_info": {
   "codemirror_mode": {
    "name": "ipython",
    "version": 3
   },
   "file_extension": ".py",
   "mimetype": "text/x-python",
   "name": "python",
   "nbconvert_exporter": "python",
   "pygments_lexer": "ipython3",
   "version": "3.5.3rc1"
  }
 },
 "nbformat": 4,
 "nbformat_minor": 2
}
