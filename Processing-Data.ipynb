{
 "cells": [
  {
   "cell_type": "markdown",
   "metadata": {},
   "source": [
    "# Neural networks from scratch"
   ]
  },
  {
   "cell_type": "markdown",
   "metadata": {},
   "source": [
    "## Part I: Preprocessing"
   ]
  },
  {
   "cell_type": "markdown",
   "metadata": {},
   "source": [
    "In our last sessions, we talked about what it means for a supervised algorithm to *learn*. We saw that, in a supervised learning algorithm, we have an **input** with a corresponding **output** label. The goal is to learn the weights for given features that will give us the correct output - this is what it means to train a model.\n",
    "\n",
    "In this exercise, we will apply what we learned to predict the rating of a review from reviews. "
   ]
  },
  {
   "cell_type": "markdown",
   "metadata": {},
   "source": [
    "In the `train.csv` file, there are a small number of reviews; for each review, there is the text of the review, the number of people who have read the review, and the numerical score of the review:\n",
    "\n",
    "```\n",
    "\"This video is incredible!!!\",1,5.0\n",
    "\"Sad and sorry excuse for words on a screen\",8,1.5\n",
    "\"The instructor was amazing, incredible in every way!\",2,5.0\n",
    "\"I feel sorry for anyone who waste their time on this book.\",9,1.0\n",
    "\"This is so-so, not bad but not good either.\",6,3.0\n",
    "...\n",
    "```"
   ]
  },
  {
   "cell_type": "markdown",
   "metadata": {},
   "source": [
    "The first step in every NLP pipeline is cleaning and tokenization. The first step is to extract the vocabulary and count statistics. \n",
    "\n",
    "In real life, you will have to decide what constitutes a **token**. Here, let's do a simple definition. A token is:\n",
    "* one single valid English word\n",
    "* lowercased\n",
    "* plurals are stemmed to their singular form\n",
    "* excludes stop words\n"
   ]
  },
  {
   "cell_type": "code",
   "execution_count": 7,
   "metadata": {},
   "outputs": [
    {
     "data": {
      "text/plain": [
       "{'bar': 2,\n",
       " 'baz': 1,\n",
       " 'broski': 1,\n",
       " 'dude': 1,\n",
       " 'foo': 1,\n",
       " 'hello': 2,\n",
       " 'how': 1,\n",
       " 'i': 1,\n",
       " 'incredible': 1,\n",
       " 'love': 1,\n",
       " 'world': 1}"
      ]
     },
     "execution_count": 7,
     "metadata": {},
     "output_type": "execute_result"
    }
   ],
   "source": [
    "from collections import Counter\n",
    "\n",
    "# Let's try a max vocab size of 12 for now, and see how this works\n",
    "MAX_VOCAB_SIZE = 12\n",
    "STOP_WORDS = ['a', 'an', 'and', 'are', 'as', 'at',\n",
    "              'be', 'but', 'by', 'for', 'if', 'in',\n",
    "              'into', 'is', 'it', 'no', 'not', 'of',\n",
    "              'on', 'or', 'such', 'that', 'the', 'their',\n",
    "              'then', 'there', 'these', 'they', 'this',\n",
    "              'to', 'was', 'will', 'with']\n",
    "\n",
    "def get_vocabulary(reviews):\n",
    "    ''' \n",
    "        Given a list of reviews, returns a vocabulary dictionary of tokens. \n",
    "        For example, given [\"foo bar\", \"bar baz hello\", \"hello world\"], \n",
    "        return {\"foo\": 1, \"bar\": 2, \"baz\": 1, \"hello\": 2}\n",
    "    '''\n",
    "    vocab = {}\n",
    "    counter = Counter()\n",
    "    for review in reviews:\n",
    "        for word in review.split(\" \"):\n",
    "            if word not in STOP_WORDS:\n",
    "                counter[word.lower()] += 1\n",
    "                \n",
    "    return dict(counter)\n"
   ]
  },
  {
   "cell_type": "markdown",
   "metadata": {},
   "source": [
    "Stemming and excluding stop words is tedious work. **Question**: What libraries might you use that can help you with this? Do some googling and write down below at least two libraries and function calls you can make."
   ]
  },
  {
   "cell_type": "markdown",
   "metadata": {},
   "source": [
    "**TODO: what are two libraries and their functions I could call to make this easier...**\n",
    "1. nltk word.tokenize.word_tokenize\n",
    "2. spacy.en English()"
   ]
  },
  {
   "cell_type": "markdown",
   "metadata": {},
   "source": [
    "Now, we will convert each sample into a *feature vector*. In real life, you will decide what features to use, and in the future, we will use deep learning to help us decide features. But for now, we will use these features:\n",
    "* Counts of each token\n",
    "* The number of people who have read the review"
   ]
  },
  {
   "cell_type": "code",
   "execution_count": 59,
   "metadata": {},
   "outputs": [],
   "source": [
    "\n",
    "def vectorize(data, vocab):\n",
    "    '''\n",
    "        Given a sample and the vocabulary dictionary, convert the sample to a feature vector. \n",
    "        For example, given \"I love how incredible this was.\",2,4.5 \n",
    "        it should return a vector of counts of each vocab word and the # of people who have read the review\n",
    "    '''\n",
    "    review, read_count, rating = data\n",
    "    vocab_count = []\n",
    "    for word in review:\n",
    "        try:\n",
    "            vocab_count.append(vocab[word])\n",
    "        except:\n",
    "            pass\n",
    "        \n",
    "    return vocab_count, float(read_count)\n"
   ]
  },
  {
   "cell_type": "markdown",
   "metadata": {},
   "source": [
    "Again, vectorizing by hand can be tough work. **Question**: How might we be able to use sklearn to help us out here? Do some googling and name the class we could use."
   ]
  },
  {
   "cell_type": "markdown",
   "metadata": {},
   "source": [
    "**TODO: what is the general class in sklearn that helps us with converting data to feature vectors?**"
   ]
  },
  {
   "cell_type": "markdown",
   "metadata": {},
   "source": [
    "Now, call your two functions to get the vocabulary and vectorize the data into feature vectors. You should end up with $X$, the array of feature vectors for each sample, and $y$, the array of truth labels (in this case, the review score) for each sample."
   ]
  },
  {
   "cell_type": "code",
   "execution_count": 60,
   "metadata": {},
   "outputs": [],
   "source": [
    "import csv\n",
    "import numpy as np\n",
    "\n",
    "train_f = open('./train.csv', 'r')\n",
    "review_data = [review for review in csv.reader(train_f)]\n",
    "review_text = [review[0] for review in review_data]\n",
    "\n",
    "# process your file here, call your functions, etc\n",
    "X = np.array(get_vocabulary(review_text))\n",
    "\n",
    "y = np.array([vectorize(review, X) for review in review_data])\n",
    "\n",
    "# make sure they're numpy array objects.\n",
    "assert isinstance(X, np.ndarray) == True\n",
    "assert isinstance(y, np.ndarray) == True"
   ]
  },
  {
   "cell_type": "markdown",
   "metadata": {},
   "source": [
    "Q: How many features do we have? In other words, what is the dimensionality of our training set?\n",
    "\n",
    "Two? 1) The review text and 2) the review score. A potential third feature being number of review reads"
   ]
  },
  {
   "cell_type": "markdown",
   "metadata": {},
   "source": [
    "## Part II: Training"
   ]
  },
  {
   "cell_type": "markdown",
   "metadata": {},
   "source": [
    "TODO"
   ]
  },
  {
   "cell_type": "markdown",
   "metadata": {},
   "source": [
    "## Part III: Evaluation"
   ]
  },
  {
   "cell_type": "markdown",
   "metadata": {},
   "source": [
    "TODO"
   ]
  }
 ],
 "metadata": {
  "kernelspec": {
   "display_name": "Python 3",
   "language": "python",
   "name": "python3"
  },
  "language_info": {
   "codemirror_mode": {
    "name": "ipython",
    "version": 2
   },
   "file_extension": ".py",
   "mimetype": "text/x-python",
   "name": "python",
   "nbconvert_exporter": "python",
   "pygments_lexer": "ipython2",
   "version": "2.7.10"
  }
 },
 "nbformat": 4,
 "nbformat_minor": 2
}
