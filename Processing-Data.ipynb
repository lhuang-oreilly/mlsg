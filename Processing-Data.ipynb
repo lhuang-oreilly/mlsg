{
 "cells": [
  {
   "cell_type": "markdown",
   "metadata": {},
   "source": [
    "# Neural networks from scratch"
   ]
  },
  {
   "cell_type": "markdown",
   "metadata": {},
   "source": [
    "In our last sessions, we talked about what it means for a supervised algorithm to *learn*. We saw that, in a supervised learning algorithm, we have an **input** with a corresponding **output** label. The goal is to learn the weights for given features that will give us the correct output - this is what it means to train a model.\n",
    "\n",
    "In this exercise, we will apply what we learned to predict the rating of a review from reviews. "
   ]
  },
  {
   "cell_type": "markdown",
   "metadata": {},
   "source": [
    "In the `train.csv` file, there are a small number of reviews; for each review, there is the text of the review, the number of people who have read the review, and the numerical score of the review:\n",
    "\n",
    "```\n",
    "\"This video is incredible!!!\",1,5.0\n",
    "\"Sad and sorry excuse for words on a screen\",8,1.5\n",
    "\"The instructor was amazing, incredible in every way!\",2,5.0\n",
    "\"I feel sorry for anyone who waste their time on this book.\",9,1.0\n",
    "\"This is so-so, not bad but not good either.\",6,3.0\n",
    "...\n",
    "```"
   ]
  },
  {
   "cell_type": "markdown",
   "metadata": {},
   "source": [
    "## Part I: Preprocessing"
   ]
  },
  {
   "cell_type": "markdown",
   "metadata": {},
   "source": [
    "The first step in every NLP pipeline is cleaning and tokenization. The first step is to extract the vocabulary and count statistics. \n",
    "\n",
    "In real life, you will have to decide what constitutes a **token**. Here, let's do a simple definition. A token is:\n",
    "* one single valid English word\n",
    "* lowercased\n",
    "* plurals are stemmed to their singular form\n",
    "* excludes stop words\n"
   ]
  },
  {
   "cell_type": "code",
   "execution_count": 37,
   "metadata": {},
   "outputs": [
    {
     "name": "stdout",
     "output_type": "stream",
     "text": [
      "all good\n"
     ]
    }
   ],
   "source": [
    "from collections import Counter\n",
    "import spacy\n",
    "\n",
    "# Let's try a max vocab size of 12 for now, and see how this works\n",
    "MAX_VOCAB_SIZE = 12\n",
    "# STOP_WORDS = [TODO - DECIDE WHAT YOUR STOP WORDS ARE]\n",
    "\n",
    "nlp = spacy.load('en_core_web_sm')\n",
    "\n",
    "def get_vocabulary(reviews):\n",
    "    ''' \n",
    "        Given a list of reviews, returns a vocabulary dictionary of tokens. \n",
    "        For example, given [\"foo bar\", \"bar baz hello\", \"hello world\"], \n",
    "        return {\"foo\": 1, \"bar\": 2, \"baz\": 1, \"hello\": 2}\n",
    "    '''\n",
    "    vocabulary = Counter()\n",
    "    for review in reviews:\n",
    "        vocabulary.update(token.text for token in nlp(review))        \n",
    "    return dict(vocabulary)\n",
    "\n",
    "assert get_vocabulary([]) == {}\n",
    "assert get_vocabulary(['']) == {}\n",
    "assert get_vocabulary(['hello']) == {'hello': 1}\n",
    "assert get_vocabulary(['foo bar', 'bar baz hello', 'hello world']) == {'foo': 1, 'bar': 2, 'baz': 1, 'hello': 2, 'world': 1}\n",
    "\n",
    "print('all good')"
   ]
  },
  {
   "cell_type": "markdown",
   "metadata": {},
   "source": [
    "Stemming and excluding stop words is tedious work. **Question**: What libraries might you use that can help you with this? Do some googling and write down below at least two libraries and function calls you can make."
   ]
  },
  {
   "cell_type": "markdown",
   "metadata": {},
   "source": [
    "**TODO: what are two libraries and their functions I could call to make this easier...**"
   ]
  },
  {
   "cell_type": "markdown",
   "metadata": {},
   "source": [
    "Now, we will convert each sample into a *feature vector*. In real life, you will decide what features to use, and in the future, we will use deep learning to help us decide features. But for now, we will use these features:\n",
    "* Counts of each token\n",
    "* The number of people who have read the review"
   ]
  },
  {
   "cell_type": "code",
   "execution_count": 38,
   "metadata": {},
   "outputs": [
    {
     "name": "stdout",
     "output_type": "stream",
     "text": [
      "{'baz': 1, 'foo': 1, 'hello': 2, 'world': 1, 'bar': 2}\n",
      "['hello world world world', 42, 4.5]\n",
      "  (0, 0)\t42.0\n",
      "  (0, 4)\t1.0\n",
      "  (0, 5)\t3.0\n",
      "['hello world world baz', 42, 4.5]\n",
      "  (0, 0)\t42.0\n",
      "  (0, 2)\t1.0\n",
      "  (0, 4)\t1.0\n",
      "  (0, 5)\t2.0\n"
     ]
    }
   ],
   "source": [
    "import numpy as np\n",
    "from sklearn.feature_extraction import DictVectorizer\n",
    "\n",
    "vectorizer = DictVectorizer()\n",
    "\n",
    "def vectorize(data, vocab):\n",
    "    '''\n",
    "        Given a sample and the vocabulary dictionary, convert the sample to a feature vector. \n",
    "        For example, given \"I love how incredible this was.\",2,4.5 \n",
    "        it should return a vector of counts of each vocab word and the # of people who have read the review\n",
    "    '''\n",
    "    vocab = dict(vocab, _readers_=1)\n",
    "    vectorizer.fit([vocab])\n",
    "    \n",
    "    print(data)\n",
    "    review, readers, *_ = data\n",
    "    features = get_vocabulary([review])\n",
    "    features['_readers_'] = readers\n",
    "    \n",
    "    return vectorizer.transform(features)\n",
    "    \n",
    "vocab = get_vocabulary(['foo bar', 'bar baz hello', 'hello world'])\n",
    "print(vocab)\n",
    "print(vectorize(['hello world world world', 42, 4.5], vocab))\n",
    "print(vectorize(['hello world world baz', 42, 4.5], vocab))"
   ]
  },
  {
   "cell_type": "markdown",
   "metadata": {},
   "source": [
    "Again, vectorizing by hand can be tough work. **Question**: How might we be able to use sklearn to help us out here? Do some googling and name the class we could use."
   ]
  },
  {
   "cell_type": "markdown",
   "metadata": {},
   "source": [
    "**TODO: what is the general class in sklearn that helps us with converting data to feature vectors?**"
   ]
  },
  {
   "cell_type": "markdown",
   "metadata": {},
   "source": [
    "Now, call your two functions to get the vocabulary and vectorize the data into feature vectors. You should end up with $X$, the array of feature vectors for each sample, and $y$, the array of truth labels (in this case, the review score) for each sample."
   ]
  },
  {
   "cell_type": "code",
   "execution_count": 49,
   "metadata": {},
   "outputs": [
    {
     "name": "stdout",
     "output_type": "stream",
     "text": [
      "['This video is incredible!!!', '1', '5.0']\n",
      "['Sad and sorry excuse for words on a screen', '8', '1.5']\n",
      "['The instructor was amazing and incredible in every way!', '2', '5.0']\n",
      "['I feel sorry for anyone who waste their time on this book.', '9', '1.0']\n",
      "['This is so-so not bad but not good either.', '6', '3.0']\n",
      "['Amazing resource! A must read for anyone learning web development!', '3', '4.5']\n",
      "['I had to excuse myself halfway through the training because it was so boring', '7', '2.5']\n",
      "['Great book for beginner programmers.', '2', '4.0']\n",
      "['Best way for learning design patterns', '1', '5.0']\n",
      "['Waste of time and waste of money.', '6', '2.0']\n",
      "['the video was not very legible on screen', '6', '2.0']\n",
      "['really boring and not very practical', '8', '2.0']\n",
      "['i just wasted 2 hours of my life on this', '7', '1.5']\n",
      "['must read for beginners', '3', '4.5']\n",
      "['great great great book!!!', '1', '5.0']\n",
      "Dimensionality is 78 + 1\n"
     ]
    }
   ],
   "source": [
    "# call the get_vocabulary() and vectorize() functions\n",
    "import csv\n",
    "\n",
    "with open('./train.csv', 'r') as train_f:\n",
    "    reader = csv.reader(train_f)\n",
    "    reviews = [r for r in reader]\n",
    "    \n",
    "    # process your file here, call your functions, etc.\n",
    "    vocab = get_vocabulary([review[0] for review in reviews])\n",
    "\n",
    "    X = np.asarray([vectorize(review, vocab) for review in reviews])\n",
    "    y = np.asarray([float(review[-1]) for review in reviews])\n",
    "\n",
    "# make sure they're numpy array objects.\n",
    "\n",
    "assert isinstance(X, np.ndarray) == True\n",
    "assert isinstance(y, np.ndarray) == True\n",
    "print(\"Dimensionality is\", len(vocab), \"+ 1\")"
   ]
  },
  {
   "cell_type": "markdown",
   "metadata": {},
   "source": [
    "Q: How many features do we have? In other words, what is the dimensionality of our training set?\n",
    "\n",
    "**TODO: Type in your answer**"
   ]
  },
  {
   "cell_type": "markdown",
   "metadata": {},
   "source": [
    "## Part II: Training"
   ]
  },
  {
   "cell_type": "markdown",
   "metadata": {},
   "source": [
    "TODO"
   ]
  },
  {
   "cell_type": "markdown",
   "metadata": {},
   "source": [
    "## Part III: Evaluation"
   ]
  },
  {
   "cell_type": "markdown",
   "metadata": {},
   "source": [
    "TODO"
   ]
  }
 ],
 "metadata": {
  "kernelspec": {
   "display_name": "Python 3",
   "language": "python",
   "name": "python3"
  },
  "language_info": {
   "codemirror_mode": {
    "name": "ipython",
    "version": 3
   },
   "file_extension": ".py",
   "mimetype": "text/x-python",
   "name": "python",
   "nbconvert_exporter": "python",
   "pygments_lexer": "ipython3",
   "version": "3.4.5"
  }
 },
 "nbformat": 4,
 "nbformat_minor": 2
}
