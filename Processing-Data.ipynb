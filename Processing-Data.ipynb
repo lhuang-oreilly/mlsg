{
 "cells": [
  {
   "cell_type": "markdown",
   "metadata": {},
   "source": [
    "# Neural networks from scratch"
   ]
  },
  {
   "cell_type": "markdown",
   "metadata": {},
   "source": [
    "In our last sessions, we talked about what it means for a supervised algorithm to *learn*. We saw that, in a supervised learning algorithm, we have an **input** with a corresponding **output** label. The goal is to learn the weights for given features that will give us the correct output - this is what it means to train a model.\n",
    "\n",
    "In this exercise, we will apply what we learned to predict the rating of a review from reviews. "
   ]
  },
  {
   "cell_type": "markdown",
   "metadata": {},
   "source": [
    "In the `train.csv` file, there are a small number of reviews; for each review, there is the text of the review, the number of people who have read the review, and the numerical score of the review:\n",
    "\n",
    "```\n",
    "\"This video is incredible!!!\",1,5.0\n",
    "\"Sad and sorry excuse for words on a screen\",8,1.5\n",
    "\"The instructor was amazing, incredible in every way!\",2,5.0\n",
    "\"I feel sorry for anyone who waste their time on this book.\",9,1.0\n",
    "\"This is so-so, not bad but not good either.\",6,3.0\n",
    "...\n",
    "```"
   ]
  },
  {
   "cell_type": "markdown",
   "metadata": {},
   "source": [
    "## Part I: Preprocessing"
   ]
  },
  {
   "cell_type": "markdown",
   "metadata": {},
   "source": [
    "The first step in every NLP pipeline is cleaning and tokenization. The first step is to extract the vocabulary and count statistics. \n",
    "\n",
    "In real life, you will have to decide what constitutes a **token**. Here, let's do a simple definition. A token is:\n",
    "* one single valid English word\n",
    "* lowercased\n",
    "* plurals are stemmed to their singular form\n",
    "* excludes stop words\n"
   ]
  },
  {
   "cell_type": "code",
   "execution_count": 17,
   "metadata": {},
   "outputs": [],
   "source": [
    "from collections import Counter, OrderedDict\n",
    "from porter2stemmer import Porter2Stemmer\n",
    "\n",
    "# Let's try a max vocab size of 12 for now, and see how this works\n",
    "MAX_VOCAB_SIZE = 12\n",
    "REVIEWS = [\"Foo bar\", \"bar baz hello\", \"hello world\", \"functionally\"]\n",
    "STOP_WORDS = 'a an and are as at be but by for i if in into is it no not of on or such that the their then there these they this to was will with'.split(' ')\n",
    "\n",
    "MORE_REVIEWS = [\n",
    "    (\"This video is incredible!!!\",1,5.0),\n",
    "    (\"Sad and sorry excuse for words on a screen\",8,1.5),\n",
    "    (\"The instructor was amazing, incredible in every way!\",2,5.0),\n",
    "    (\"I feel sorry for anyone who waste their time on this book.\",9,1.0),\n",
    "    (\"This is so-so, not bad but not good either.\",6,3.0),\n",
    "]\n",
    "\n",
    "def tokenize(text):\n",
    "    return [w for w in text.lower().split(' ') if w not in STOP_WORDS]\n",
    "\n",
    "def stem_words(words):\n",
    "    stemmer = Porter2Stemmer()\n",
    "    return [stemmer.stem(w) for w in words]\n",
    "\n",
    "def get_vocabulary(reviews, most_common=12):\n",
    "    ''' \n",
    "        Given a list of reviews, returns a vocabulary dictionary of tokens. \n",
    "        For example, given [\"foo bar\", \"bar baz hello\", \"hello world\"], \n",
    "        return {\"foo\": 1, \"bar\": 2, \"baz\": 1, \"hello\": 2}\n",
    "    '''\n",
    "    vocab = Counter()\n",
    "    \n",
    "    for phrase in reviews:\n",
    "        vocab.update(stem_words(tokenize(phrase)))\n",
    "        \n",
    "    v = OrderedDict(sorted(vocab.most_common(most_common)))\n",
    "    return v\n",
    "\n",
    "assert get_vocabulary(REVIEWS) == {'bar': 2, 'hello': 2, 'foo': 1, 'baz': 1, 'world': 1, 'function': 1}\n",
    "assert get_vocabulary([m[0] for m in MORE_REVIEWS], 25) == {\n",
    "    'time': 1, 'incredible!!!': 1, 'either.': 1, 'everi': 1, 'anyon': 1, 'wast': 1, 'incred': 1, 'who': 1, 'sad': 1,\n",
    "    'sorri': 2, 'screen': 1, 'good': 1, 'instructor': 1, 'feel': 1, 'bad': 1, 'book.': 1, 'way!': 1, 'excus': 1,\n",
    "    'word': 1, 'video': 1, 'amazing,': 1, 'so-so,': 1\n",
    "}\n"
   ]
  },
  {
   "cell_type": "markdown",
   "metadata": {},
   "source": [
    "Stemming and excluding stop words is tedious work. **Question**: What libraries might you use that can help you with this? Do some googling and write down below at least two libraries and function calls you can make."
   ]
  },
  {
   "cell_type": "markdown",
   "metadata": {},
   "source": [
    "**TODO: what are two libraries and their functions I could call to make this easier...**\n",
    "\n",
    "Stemming is not a straight-forward task, so we chose to make use of a library available on PyPI, `porter2stemmer` to perform stemming for us using the Porter stemming algorithm.\n",
    "\n",
    "Some other libraries that would be useful are `nltk` (the Natural Language Toolkit), `pystemmer`, `whoosh` (which is a full-text search enging aking to Lucene, but that has stemming tools), and `gensim`."
   ]
  },
  {
   "cell_type": "markdown",
   "metadata": {},
   "source": [
    "Now, we will convert each sample into a *feature vector*. In real life, you will decide what features to use, and in the future, we will use deep learning to help us decide features. But for now, we will use these features:\n",
    "* Counts of each token\n",
    "* The number of people who have read the review"
   ]
  },
  {
   "cell_type": "code",
   "execution_count": 19,
   "metadata": {},
   "outputs": [
    {
     "name": "stdout",
     "output_type": "stream",
     "text": [
      "This video is incredible!!! 1 5.0\n",
      "([0, 0, 0, 0, 0, 0, 0, 0, 0, 0, 1, 0, 0, 0, 0, 0, 0, 1, 0, 0, 0, 0], 1)\n",
      "OrderedDict([('amazing,', 1), ('anyon', 1), ('bad', 1), ('book.', 1), ('either.', 1), ('everi', 1), ('excus', 1), ('feel', 1), ('good', 1), ('incred', 1), ('incredible!!!', 1), ('instructor', 1), ('sad', 1), ('screen', 1), ('so-so,', 1), ('sorri', 2), ('time', 1), ('video', 1), ('wast', 1), ('way!', 1), ('who', 1), ('word', 1)])\n"
     ]
    }
   ],
   "source": [
    "import numpy as np\n",
    "\n",
    "def vectorize(data, vocab):\n",
    "    '''\n",
    "        Given a sample and the vocabulary dictionary, convert the sample to a feature vector. \n",
    "        For example, given \"I love how incredible this was.\",2,4.5 \n",
    "        it should return a vector of counts of each vocab word and the # of people who have read the review\n",
    "    '''\n",
    "    review_text, num_viewers, _ = data\n",
    "    print(review_text, num_viewers, _)\n",
    "    \n",
    "    words = stem_words(tokenize(review_text))\n",
    "    #occurrences = [c for w, c in vocab.items() if w in words]    \n",
    "     \n",
    "    occurrences = []\n",
    "    for w, c in vocab.items():\n",
    "        occurrences.append(c if w in words else 0)\n",
    "    return occurrences, num_viewers\n",
    "\n",
    "vocab = get_vocabulary([m[0] for m in MORE_REVIEWS], 25)\n",
    "for review in MORE_REVIEWS:\n",
    "    \n",
    "v = vectorize(MORE_REVIEWS[0], vocab)\n",
    "print(v)\n",
    "print(vocab)\n",
    "    \n",
    "\n",
    "    \n",
    "    \n"
   ]
  },
  {
   "cell_type": "markdown",
   "metadata": {},
   "source": [
    "Again, vectorizing by hand can be tough work. **Question**: How might we be able to use sklearn to help us out here? Do some googling and name the class we could use."
   ]
  },
  {
   "cell_type": "markdown",
   "metadata": {},
   "source": [
    "**TODO: what is the general class in sklearn that helps us with converting data to feature vectors?**"
   ]
  },
  {
   "cell_type": "markdown",
   "metadata": {},
   "source": [
    "Now, call your two functions to get the vocabulary and vectorize the data into feature vectors. You should end up with $X$, the array of feature vectors for each sample, and $y$, the array of truth labels (in this case, the review score) for each sample."
   ]
  },
  {
   "cell_type": "code",
   "execution_count": 26,
   "metadata": {},
   "outputs": [],
   "source": [
    "# call the get_vocabulary() and vectorize() functions\n",
    "train_f = open('./train.csv', 'r')\n",
    "\n",
    "# process your file here, call your functions, etc.\n",
    "\n",
    "# X = TODO....\n",
    "# y = TODO....\n",
    "\n",
    "# make sure they're numpy array objects.\n",
    "assert isinstance(X, np.ndarray) == True\n",
    "assert isinstance(y, np.ndarray) == True"
   ]
  },
  {
   "cell_type": "markdown",
   "metadata": {},
   "source": [
    "Q: How many features do we have? In other words, what is the dimensionality of our training set?\n",
    "\n",
    "**TODO: Type in your answer**"
   ]
  },
  {
   "cell_type": "markdown",
   "metadata": {},
   "source": [
    "## Part II: Training"
   ]
  },
  {
   "cell_type": "markdown",
   "metadata": {},
   "source": [
    "TODO"
   ]
  },
  {
   "cell_type": "markdown",
   "metadata": {},
   "source": [
    "## Part III: Evaluation"
   ]
  },
  {
   "cell_type": "markdown",
   "metadata": {},
   "source": [
    "TODO"
   ]
  }
 ],
 "metadata": {
  "kernelspec": {
   "display_name": "Python 3",
   "language": "python",
   "name": "python3"
  },
  "language_info": {
   "codemirror_mode": {
    "name": "ipython",
    "version": 3
   },
   "file_extension": ".py",
   "mimetype": "text/x-python",
   "name": "python",
   "nbconvert_exporter": "python",
   "pygments_lexer": "ipython3",
   "version": "3.5.0"
  }
 },
 "nbformat": 4,
 "nbformat_minor": 2
}
